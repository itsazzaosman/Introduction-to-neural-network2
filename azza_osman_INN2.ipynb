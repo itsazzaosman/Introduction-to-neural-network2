{
 "cells": [
  {
   "cell_type": "markdown",
   "id": "03624615",
   "metadata": {},
   "source": [
    "## Problem (1)"
   ]
  },
  {
   "cell_type": "markdown",
   "id": "aad65b5a",
   "metadata": {},
   "source": [
    "We can use Cauchy-schwarz inequatilty to find the solution, which states that for any two vectors:\n",
    "\t$$ u, v \\in \\mathbb{R}^{d} $$\n",
    "    $$ |U^{T}v|\\le ||u||||v|| $$   \n",
    "So, when applaying this inequality on the problem, we will get:\n",
    "\n",
    "\\begin{align}\n",
    "|y^{T} \\nabla C(x_0)|\\le ||y||||\\nabla C(x_0)||\n",
    "\\end{align}\n",
    "\n",
    "We were given in the question that $||y|| = 1 $.If we substitute this back into the previous equation, we will get :\n",
    "$$\n",
    "|y^{T} \\nabla C(x_0)|\\le ||\\nabla C(x_0)||\n",
    "$$\n",
    "We know that :\n",
    "\n",
    "$$\n",
    "|x| <a = -a <x<a\n",
    "$$\n",
    "By applaying this :\n",
    "$$\n",
    " -||\\nabla C(x_0)||\\le |y^{T} \\nabla C(x_0)|\\le ||\\nabla C(x_0)||\n",
    "$$\n",
    "This means:\n",
    "$$\n",
    " -||\\nabla C(x_0)||\\le \\min_{||y|| = 1, y \\in \\mathbb{R}} y^T \\nabla C(x_0) \\quad  (*)\n",
    "$$\n",
    "Suppose that:\n",
    "$$\n",
    "y^* = \\frac{- \\nabla C(x_0)}{||\\nabla C(x_0)||}\n",
    "$$\n",
    "Then:\n",
    "$$\n",
    "y^T = \\frac{-\\nabla C(x_0)}{||\\nabla C(x_0)||}\n",
    "$$\n",
    "This means:\n",
    "$$\n",
    "||y^*|| = ||\\frac{- \\nabla C(x_0)}{|| \\nabla C(x_0)||}|| = \\frac{||\\nabla C(x_0)||}{||\\nabla C(x_0)||} = 1\n",
    "$$\n",
    "Then:\n",
    "$$\n",
    "y^{*T}\\nabla C(x_0) = - \\frac{\\nabla ^T C(x_0) \\nabla C(x_0)}{|| \\nabla C(x_0)||}= -||\\nabla C(x_0)||\n",
    "$$\n",
    "Therefore:\n",
    "$$\n",
    "-||\\nabla C(x_0)||= y^T \\nabla C(x_0) \\ge \\min_{||y|| = 1, y \\in \\mathbb{R^d}} y ^T \\nabla C(x_0) \\quad (**)\n",
    "$$\n",
    "Comparing $\\quad $  (\\*) and (\\**) :\n",
    "$$\n",
    "\\min_{||y|| = 1 , y \\in \\mathbb{R^d}} y^T \\nabla C(x_0) = -||\\nabla C(x_0)||\n",
    "$$"
   ]
  },
  {
   "cell_type": "markdown",
   "id": "c80d4c2d",
   "metadata": {},
   "source": [
    "## Problem (2)"
   ]
  },
  {
   "cell_type": "markdown",
   "id": "2592f49b",
   "metadata": {},
   "source": [
    "We know that :\n",
    "$$\n",
    "\\lim_{c \\rightarrow \\infty}  \\text{softmax(cz)}\n",
    "$$\n",
    "$$\n",
    "\\textbf{softmax(cz)_i} = \\frac{e^{cz_i}}{e^{cz_1 }+ e^{cz_2} + \\cdots + e^{cz_i}+ \\cdots + e^{cz_{d}}}\n",
    "$$\n",
    "$$\n",
    "\\textbf{softmax(cz)_i} = \\lim_{c \\rightarrow \\infty} \\frac{e^{cz_i}}{\\sum_{j = 1}^{d} exp(cz_i)}\n",
    "$$\n",
    "\n",
    "If we want to find the limit when $c$ goes to $ infinity $ for a polynomial function, we should just focus on the part which has large participation, that means the part which has large power in the numerator and denominator.\n",
    "Therefore:\n",
    "\n",
    "$$\n",
    "z_{max} = max{[z_1,z_2, \\cdots ,z_i, \\cdots, z_d]}\n",
    "$$\n",
    "Suppose that $N$ is the number of the $z_j = z_{max}$, then:\n",
    "$$\n",
    "\\lim_{c \\rightarrow \\infty} \\textbf{softmax(cz)_i} = \\lim_{c \\rightarrow \\infty} \\left( \\frac{e^{cz_i}}{N e^{czmax + \\sum_{z_j  \\neq z_{max}} exp(cz_i)}}\\right)\n",
    "$$\n",
    "We have two cases:\n",
    "$$\n",
    "\\lim_{c \\rightarrow \\infty} \\textbf{softmax(cz)_i} = \n",
    "$$\n",
    "\\begin{align}\n",
    "\t\\begin{cases}\n",
    "     \\frac{1}{N} \\quad \\text{If $z_j = z_{max}$}\\\\\n",
    "    0  \\quad \\text{when z_i $\\neq$ z_{max}}\n",
    "     \\end{cases}\n",
    "\\end{align}\n"
   ]
  },
  {
   "cell_type": "markdown",
   "id": "68682109",
   "metadata": {},
   "source": [
    "## Problem (3)"
   ]
  },
  {
   "cell_type": "markdown",
   "id": "e935d8a3",
   "metadata": {},
   "source": [
    "$\\textbf{(a)}$\n",
    "$$\n",
    "\\mathbb{E}[Y] = \\int_{-\\infty}^{\\infty} ReLU(G) f(G) dG\n",
    "$$\n",
    "We know that $G$ follows the normal distribution with mean zero and varoance $\\sigma^2$\n",
    "The formula of the normal distribution is :\n",
    "$$\n",
    "f(G) = \\frac{1}{\\sigma \\sqrt{2 \\pi}} \\exp{\\left( \\frac{- G^2}{2 \\sigma^2}\\right)}\n",
    "$$\n",
    "Then :\n",
    "$$\n",
    "\\mathbb{E}[Y] = \\int_{-\\infty}^{\\infty} max(0,G)\\frac{1}{\\sigma \\sqrt{2 \\pi}} \\exp{\\left( \\frac{- G^2}{2 \\sigma^2}\\right)} dG\n",
    "$$\n",
    "\n",
    "$$\n",
    "max(0,G) = \\begin{cases}\n",
    "G if G \\ge 0 \\\\\n",
    "0 if G <0 \n",
    "\\end{cases}\n",
    "$$\n",
    "Then we divide the integrad into two parts the first one when the $G<0$ and here the integral is equal to zero because $G = 0$ and the second part is equal to :\n",
    "$$\n",
    "\\mathbb{E}[Y] = \\int_{0}^{\\infty} G \\frac{1}{\\sigma \\sqrt{2 \\pi}} \\exp{\\left( \\frac{- G^2}{2 \\sigma^2}\\right)}dG\n",
    "$$\n",
    "Rearrange the equation:\n",
    "$$\n",
    "\\mathbb{E}[Y] =  \\frac{1}{\\sigma \\sqrt{2 \\pi}}  \\int_{0}^{\\infty} G\\exp{\\left( \\frac{- G^2}{2 \\sigma^2}\\right)}dG\n",
    "$$\n",
    "Integrate by substitution:\n",
    " $$\n",
    " x = \\frac{G^2}{2 \\sigma ^2} , \\quad  dG = \\frac{\\sigma dx}{\\sqrt{2 x}} , \\quad G = \\sigma \\sqrt{2x} ,\\quad \\text{if} \\quad G = \\infty \\implies x = \\infty, \\quad \\text{if} \\quad G = 0, \\implies \\quad x = 0\n",
    " $$\n",
    "Then:\n",
    "$$\n",
    "\\mathbb{E}[Y] = \\frac{\\sigma}{ \\sqrt{2 \\pi}}  \\int_{0}^{\\infty} \\exp[-x] dx \\implies \\frac{- \\sigma }{\\sqrt{2\\pi}} \\left( e^{-\\infty} - e^{-0} \\right) \\implies \\frac{\\sigma}{\\sqrt {2 \\pi}}\n",
    "$$\n",
    "$$\n",
    "\\mathbb{E}[Y] = \\frac{\\sigma}{\\sqrt {2 \\pi}}\n",
    "$$\n",
    "$\\textbf{(b)}$\n",
    "$$\n",
    "Var[Y] = \\mathbb{E}[Y^2] - (\\mathbb{E}[Y])^2\n",
    "$$\n",
    "$\\textbf{First}$ calculate $\\mathbb{E}[Y^2]$ by using the same previous method:\n",
    "$$\n",
    "\\mathbb{E}[Y^2] =  \\int_{0}^{\\infty} G^2 f(G) dG\n",
    "$$\n",
    "$$\n",
    "\\mathbb{E}[Y^2] = \\frac{1}{\\sigma \\sqrt{2\\pi}} \\int_{0}^{\\infty} G^2 \\exp \\left( \\frac{-G^2}{2 \\sigma ^2}\\right)dG\n",
    "$$\n",
    "$$ \n",
    "G^2 = 2 \\sigma^2 x , \\quad dG = \\frac{\\sigma }{\\sqrt{2 x} } dx, \\text{if} \\quad G = \\infty \\implies x = \\infty, \\quad \\text{if} \\quad G = 0, \\implies \\quad x = 0\n",
    "$$\n",
    "Substitute back :\n",
    "$$\n",
    "\\mathbb{E}[Y^2] = \\frac{1}{\\sigma \\sqrt{2\\pi}} \\int_{0}^{\\infty} 2 \\sigma^2 x \\exp \\left( \\frac{-2 \\sigma^2 x}{2 \\sigma ^2}\\right)  \\frac{\\sigma }{\\sqrt{2 x} } dx\n",
    "$$\n",
    "$$\n",
    "\\mathbb{E}[Y^2] = \\frac{\\sigma^2}{\\sqrt{\\pi}} \\int_{0}^{\\infty} x^{\\frac{1}{2}} \\exp[-x] dx\n",
    "$$\n",
    "We know that the gamma function :\n",
    "$$\n",
    "\\Gamma (z) =  \\int_{0}^{\\infty} x^{z-1} \\exp(-x) dx\n",
    "$$\n",
    "This $\\implies$ $z = \\frac{3}{2}$ \n",
    "$$\n",
    "\\Gamma(\\frac{3}{2}) = \\int_{0}^{\\infty} x^{\\frac{1}{2}} \\exp[-x] dx\n",
    "$$\n",
    "Therefore :\n",
    "$$\n",
    "\\mathbb{E}[Y^2] = \\frac{\\sigma^2}{\\sqrt{\\pi}} \\Gamma (1+\\frac{1}{2})\n",
    "$$\n",
    "We know that : $\\Gamma (1+\\frac{1}{2}) = \\frac{1}{2} \\Gamma (\\frac{1}{2}) \\implies \\frac{1}{2} \\sqrt{\\pi}$\n",
    "Then:\n",
    "$$\n",
    "\\mathbb{E}[Y^2] =  \\frac{\\sigma ^2}{2}\n",
    "$$\n",
    "Therefore:\n",
    "$Var[Y] = \\mathbb{E}[Y^2] - (\\mathbb{E}[Y])^2$ $\\implies$ \n",
    "$$\n",
    "Var[Y] = \\frac{\\sigma^2}{2 } - \\left(\\frac{\\sigma}{\\sqrt{2 \\pi}} \\right)^2\n",
    "$$\n",
    "$$\n",
    "Var[Y] = \\frac{\\sigma^2}{2} \\left( 1- \\frac{1}{\\pi}\\right)\n",
    "$$"
   ]
  },
  {
   "cell_type": "markdown",
   "id": "61973284",
   "metadata": {},
   "source": [
    "## Problem (4)"
   ]
  },
  {
   "cell_type": "markdown",
   "id": "b80158b7",
   "metadata": {},
   "source": [
    "We know that:\n",
    "$$\n",
    "z_i = \\sum_{j=1}^{m} w_{ij}x_{j}+b_i\n",
    "$$ \n",
    "m is the number of neuron in the hidden layer.\n",
    "$$\n",
    "z' = \\sum_{k=1}^{m} v_{k}z_{k}+b'\n",
    "$$\n",
    "$$\n",
    "z_k = \\sum_{k=1}^{m} w_{kj}x_{j}+b_k\n",
    "$$\n",
    "Then, we can substiutie in $z'$:\n",
    "$$\n",
    "z' = \\sum_{k=1}^{m} v_{k}\\left( \\sum_{k=1}^{m} w_{kj}x_{j}+b_k \\right)+b'\n",
    "$$\n",
    "Therefore:\n",
    "$$\n",
    "z' = \\sum_{k=1}^{m}\\sum_{j=1}^{n} v_k w_{kj}x_j + \\sum_{k=1}^{m} v_kb_k + b' \\quad (*)\n",
    "$$\n",
    "The majority function gives us 1 if the majority of the input is 1, but it gives us -1 if the majority of the input is -1:\n",
    "\n",
    "Now if all the input($x_j$) =1 then:\n",
    "$$\n",
    "\\sum_{k=1}^{m}\\sum_{j=1}^{n} v_k w_{kj}x_j + \\sum_{k=1}^{m} v_kb_k + b' = 1 \\quad (1)\n",
    "$$\n",
    "Now if all the input($x_j$) =-1 then:\n",
    "$$\n",
    "-\\sum_{k=1}^{m}\\sum_{j=1}^{n} v_k w_{kj}x_j + \\sum_{k=1}^{m} v_kb_k + b' = -1 \\quad (2)\n",
    "$$\n",
    "If we add (1) and (2) :\n",
    "$$\n",
    "2 \\sum_{k=1}^{m} v_k b_k+ b' = 0 \\implies \\sum_{k=1}^{m} v_k b_k +b' = 0\n",
    "$$\n",
    "Substiute back in (*):\n",
    "$$\n",
    "z' = \\sum_{k=1}^{m}\\sum_{j=1}^{n} v_k w_{kj}x_j   \\quad (3)\n",
    "$$\n",
    "If all $x_j =1$  then (#) is :\n",
    "$$\n",
    " \\sum_{k=1}^{m}\\sum_{j=1}^{n} v_k w_{kj} = 1 \\quad (4)\n",
    "$$\n",
    "Now, if one of the input =1 and the others =-1, this means that the majority = -1\n",
    "\n",
    "Then, we can substitute back in (3) :\n",
    "$$ \n",
    "- \\sum_{k=1}^{m}\\sum_{j=1}^{n} v_{k}w_{kj} + \\sum_{k=1}^{m} v_k w_{kj_0} =-1  \\quad j \\neq j_0 \\quad  (5)\n",
    "$$\n",
    "if one of the input =1 and the others = 1 also, this means the majority is 1:\n",
    "$$\n",
    "\\sum_{k=1}^{m}\\sum_{j=1}^{n} v_{k}w_{kj} + \\sum_{k=1}^{m} v_k w_{kj_0} =1  \\quad j \\neq j_0 \\quad (6)\n",
    "$$\n",
    "if we add equation(5) and (6):\n",
    "$$\n",
    "2 \\sum_{k=1}^{m} v_k w_{kj_0} = 0 \\implies  \\sum_{k=1}^{m} v_k w_{kj_0} = 0 \n",
    "$$\n",
    "We can write it as :\n",
    "$$\n",
    "\\sum_{k=1}^{m} \\sum_{j=1}^{n} v_k w_{kj} = 0 \\quad (7)\n",
    "$$\n",
    "By comparing equation (4) and (7):\n",
    "this is contradiction then the neural network does not exist."
   ]
  },
  {
   "cell_type": "markdown",
   "id": "7862b9ac",
   "metadata": {},
   "source": [
    "## Problem (5)"
   ]
  },
  {
   "cell_type": "markdown",
   "id": "f7c1055c",
   "metadata": {},
   "source": [
    "$\\textbf{(a)}$"
   ]
  },
  {
   "cell_type": "code",
   "execution_count": 1,
   "id": "92005acb",
   "metadata": {},
   "outputs": [],
   "source": [
    "import numpy as np\n",
    "import matplotlib.pyplot as plt\n",
    "import pickle\n",
    "import gzip\n",
    "import warnings"
   ]
  },
  {
   "cell_type": "code",
   "execution_count": 2,
   "id": "forty-clause",
   "metadata": {},
   "outputs": [],
   "source": [
    "class QuadraticLoss(object):\n",
    "    @staticmethod\n",
    "    def loss(a, y):\n",
    "        return 0.5*np.dot(a-y, a-y)\n",
    "    @staticmethod\n",
    "    def loss_derivative(a, y):\n",
    "        return a-y"
   ]
  },
  {
   "cell_type": "code",
   "execution_count": 3,
   "id": "employed-courage",
   "metadata": {},
   "outputs": [],
   "source": [
    "class CrossEntropyLoss(object):\n",
    "    @staticmethod\n",
    "    def loss(a, y):\n",
    "        return np.sum(np.nan_to_num(-y*np.log(a)-(1-y)*np.log(1-a)))\n",
    "    @staticmethod\n",
    "    def loss_derivative(a, y):\n",
    "        return (a-y)/(a*(1.0-a))"
   ]
  },
  {
   "cell_type": "code",
   "execution_count": 4,
   "id": "applicable-auckland",
   "metadata": {},
   "outputs": [],
   "source": [
    "def sigmoid(z):\n",
    "    return 1 / (1.0+np.exp(-z))\n",
    "def sigmoid_prime(z):\n",
    "    return sigmoid(z)*(1-sigmoid(z))"
   ]
  },
  {
   "cell_type": "code",
   "execution_count": 5,
   "id": "drawn-horse",
   "metadata": {},
   "outputs": [],
   "source": [
    "IMG_LEN = 28\n",
    "IMG_SIZE = IMG_LEN**2"
   ]
  },
  {
   "cell_type": "code",
   "execution_count": 55,
   "id": "every-homeless",
   "metadata": {},
   "outputs": [],
   "source": [
    "class Network(object):\n",
    "    def __init__(self, n, *, loss=QuadraticLoss, init='standard'):\n",
    "        # Initialize the weights randomly\n",
    "        if init == 'standard':\n",
    "            self.W = np.random.randn(n, IMG_SIZE)\n",
    "            self.V = np.random.randn(10, n)\n",
    "        elif init == 'normalized':\n",
    "            self.W = np.random.randn(n, IMG_SIZE) / np.sqrt(IMG_SIZE)\n",
    "            self.V = np.random.randn(10, n) / np.sqrt(n)\n",
    "        \n",
    "        self.b = np.random.randn(n)\n",
    "        self.bprime = np.random.randn(10)\n",
    "        self.loss = loss\n",
    "        \n",
    "    def feedforward(self, x):\n",
    "        # Return the output of a feedforward pass\n",
    "        a = sigmoid(np.dot(self.W, x)+self.b)\n",
    "        return sigmoid(np.dot(self.V, a)+self.bprime)\n",
    "    \n",
    "    def evaluate(self, data, *, lmbda=0):\n",
    "        \"\"\" Return (cost, accuracy) on the data\"\"\"\n",
    "        correct_samples = 0\n",
    "        total_cost = 0\n",
    "        n_samples = len(data)\n",
    "        \n",
    "        for x, ylabel in data:\n",
    "            y = self.feedforward(x)\n",
    "            prediction = np.argmax(y)\n",
    "            if prediction == ylabel:\n",
    "                correct_samples += 1\n",
    "            \n",
    "            total_cost += self.loss.loss(y, Network.vec_output[ylabel])\n",
    "        \n",
    "        average_cost = total_cost / n_samples\n",
    "        average_cost += 0.5*lmbda*(\n",
    "            np.linalg.norm(self.W)**2 + np.linalg.norm(self.V)**2)\n",
    "        \n",
    "        return average_cost, correct_samples / n_samples\n",
    "            \n",
    "    \n",
    "    def update_mini_batch(self, mini_batch, eta, lmbda):\n",
    "        # Run backprop and update weights on the minibatch\n",
    "        k = len(mini_batch)\n",
    "        delta_W = np.zeros(self.W.shape)\n",
    "        delta_b = np.zeros(self.b.shape)\n",
    "        delta_V = np.zeros(self.V.shape)\n",
    "        delta_bprime = np.zeros(self.bprime.shape)\n",
    "        \n",
    "        for x, y in mini_batch:\n",
    "            nabla_W, nabla_b, nabla_V, \\\n",
    "                nabla_bprime = self.backprop(x, y)\n",
    "            delta_W += nabla_W\n",
    "            delta_b += nabla_b\n",
    "            delta_V += nabla_V\n",
    "            delta_bprime += nabla_bprime\n",
    "        \n",
    "        self.W -= eta*(lmbda*self.W + 1/k * delta_W)\n",
    "        self.b -= eta/k * delta_b\n",
    "        self.V -= eta*(lmbda*self.V + 1/k * delta_V)\n",
    "        self.bprime -= eta/k * delta_bprime\n",
    "\n",
    "    def SGD(self, training_data, *, epochs, mini_batch_size, \n",
    "            eta, lmbda=0, test_data=[]):\n",
    "        # Run SGD with those parameters\n",
    "        # Return a list of results for every epoch\n",
    "        # For each epoch, append pair (self.evaluate(training_data), \n",
    "        #        self.evaluate(test_data))\n",
    "        res = []\n",
    "\n",
    "        for i in range(epochs):\n",
    "            np.random.shuffle(training_data)\n",
    "            for j in range(0, len(training_data), mini_batch_size):\n",
    "                mini_batch = training_data[j:j+mini_batch_size]\n",
    "                self.update_mini_batch(mini_batch, eta, lmbda)\n",
    "                \n",
    "            res.append((self.evaluate(training_data),\n",
    "                       self.evaluate(test_data)))\n",
    "            \n",
    "            print('Epoch '+str(i)+' finished')\n",
    "        \n",
    "        return res\n",
    "    \n",
    "    \n",
    "    def EarlyStopping(self, training_data, *, tol, mini_batch_size, \n",
    "                      eta, lmbda=0, test_data=[]):\n",
    "        # Run SGD with those parameters\n",
    "        # Return a list of results for every epoch\n",
    "        # For each epoch, append pair (self.evaluate(training_data), \n",
    "        #        self.evaluate(test_data))\n",
    "        res = []\n",
    "        perf = np.array([0])\n",
    "        i = 0\n",
    "        test = 1\n",
    "\n",
    "        while test:\n",
    "            np.random.shuffle(training_data)\n",
    "            for j in range(0, len(training_data), mini_batch_size):\n",
    "                mini_batch = training_data[j:j+mini_batch_size]\n",
    "                self.update_mini_batch(mini_batch, eta, lmbda)\n",
    "                \n",
    "            res.append((self.evaluate(training_data),\n",
    "                       self.evaluate(test_data)))\n",
    "            \n",
    "            perf = np.hstack((perf, np.array([res[i][1][1]])))\n",
    "            \n",
    "            if i >= 10:\n",
    "                last10 = perf[10:] - perf[-1]\n",
    "                test = np.sum(last10 > tol) != 0\n",
    "            \n",
    "            i += 1\n",
    "            \n",
    "            print('Epoch '+str(i)+' finished')\n",
    "        \n",
    "        return res\n",
    "    \n",
    "    def VarLearningRate(self, training_data, *, tol, mini_batch_size, \n",
    "                        eta, lmbda=1, test_data=[]):\n",
    "        \n",
    "        allResults = []\n",
    "        var_eta = [eta/10**(i) for i in range(4)]\n",
    "        for eta_i in var_eta:\n",
    "            allResults.extend(\n",
    "                self.EarlyStopping(training_data=training_data, tol=tol,\n",
    "                                       mini_batch_size=mini_batch_size, eta=eta_i,\n",
    "                                       lmbda=lmbda, test_data=test_data))\n",
    "        \n",
    "        return allResults\n",
    "    \n",
    "        \n",
    "    def backprop(self, x, ylabel):\n",
    "        # feedforward\n",
    "        z1 = np.dot(self.W, x)+self.b\n",
    "        a1 = sigmoid(z1)\n",
    "        z2 = np.dot(self.V, a1)+self.bprime\n",
    "        a2 = sigmoid(z2)\n",
    "        \n",
    "        # backward\n",
    "        delta_2 = self.loss.loss_derivative(a2, Network.vec_output[ylabel]) * sigmoid_prime(z2)\n",
    "        nabla_bprime = delta_2\n",
    "        nabla_V = np.outer(delta_2, a1)\n",
    "        \n",
    "        delta_1 = np.dot(self.V.transpose(), delta_2) * sigmoid_prime(z1)\n",
    "        nabla_b = delta_1\n",
    "        nabla_W = np.outer(delta_1, x)\n",
    "        \n",
    "        return nabla_W, nabla_b, nabla_V, nabla_bprime\n",
    "    \n",
    "    vec_output = []\n",
    "    for ylabel in range(10):\n",
    "        V = np.zeros(10)\n",
    "        V[ylabel] = 1\n",
    "        vec_output.append(V)"
   ]
  },
  {
   "cell_type": "code",
   "execution_count": 7,
   "id": "suspected-research",
   "metadata": {},
   "outputs": [],
   "source": [
    "def load_data():\n",
    "    # Note you have to update the path below\n",
    "    f = gzip.open('mnist.pkl.gz', 'rb')\n",
    "    training_data, validation_data, test_data = pickle.load(f, encoding='latin1')\n",
    "    f.close()\n",
    "    return training_data, validation_data, test_data"
   ]
  },
  {
   "cell_type": "code",
   "execution_count": 56,
   "id": "revolutionary-fever",
   "metadata": {},
   "outputs": [],
   "source": [
    "TRAIN, VALIDATION, TEST = load_data()"
   ]
  },
  {
   "cell_type": "code",
   "execution_count": 57,
   "id": "split-constitutional",
   "metadata": {},
   "outputs": [],
   "source": [
    "def zip_data(D):\n",
    "    return list(zip(D[0], D[1]))"
   ]
  },
  {
   "cell_type": "code",
   "execution_count": 58,
   "id": "presidential-connection",
   "metadata": {},
   "outputs": [],
   "source": [
    "train_data = zip_data(TRAIN)\n",
    "validation_data = zip_data(VALIDATION)\n",
    "test_data = zip_data(TEST)"
   ]
  },
  {
   "cell_type": "code",
   "execution_count": 11,
   "id": "selected-simple",
   "metadata": {},
   "outputs": [],
   "source": [
    "def plot_results(res):\n",
    "    X = list(range(len(res)))\n",
    "    fig, (ax1, ax2) = plt.subplots(1, 2, figsize=(12, 6))\n",
    "    \n",
    "    train_acc = [x[0][1] for x in res]\n",
    "    test_acc = [x[1][1] for x in res]\n",
    "    ax1.plot(X, train_acc, label='train')\n",
    "    ax1.plot(X, test_acc, label='test')\n",
    "    ax1.legend()\n",
    "    \n",
    "    train_cost = [x[0][0] for x in res]\n",
    "    test_cost = [x[1][0] for x in res]\n",
    "    ax2.plot(X, train_cost, label='train')\n",
    "    ax2.plot(X, test_cost, label='test')\n",
    "    ax2.legend()\n",
    "    \n",
    "    print(np.max([x[1][1] for x in res]))"
   ]
  },
  {
   "cell_type": "code",
   "execution_count": 59,
   "id": "western-branch",
   "metadata": {},
   "outputs": [],
   "source": [
    "def shifted_image(img, shift_r, shift_c):\n",
    "    img = np.reshape(img, (IMG_LEN, IMG_LEN))\n",
    "    res = np.zeros_like(img)\n",
    "    for row in range(IMG_LEN):\n",
    "        new_row = row + shift_r\n",
    "        if new_row >= 0 and new_row < IMG_LEN:\n",
    "            for col in range(IMG_LEN):\n",
    "                new_col = col + shift_c\n",
    "                if new_col >= 0 and new_col < IMG_LEN:\n",
    "                    res[new_row, new_col] = img[row, col]\n",
    "    return np.reshape(res, (IMG_SIZE,))"
   ]
  },
  {
   "cell_type": "code",
   "execution_count": 60,
   "id": "familiar-spencer",
   "metadata": {},
   "outputs": [],
   "source": [
    "expanded_train_data = []\n",
    "for x, ylabel in train_data:\n",
    "    expanded_train_data.append((x, ylabel))\n",
    "    for r_shift, c_shift in [(+1, 0), (-1, 0), (0, +1), (0, -1)]:\n",
    "        expanded_train_data.append((\n",
    "            shifted_image(x, r_shift, c_shift),\n",
    "            ylabel\n",
    "        ))"
   ]
  },
  {
   "cell_type": "code",
   "execution_count": 18,
   "id": "affiliated-corruption",
   "metadata": {},
   "outputs": [
    {
     "name": "stdout",
     "output_type": "stream",
     "text": [
      "Epoch 0 finished\n",
      "Epoch 1 finished\n",
      "Epoch 2 finished\n",
      "Epoch 3 finished\n",
      "Epoch 4 finished\n",
      "Epoch 5 finished\n",
      "Epoch 6 finished\n",
      "Epoch 7 finished\n",
      "Epoch 8 finished\n",
      "Epoch 9 finished\n",
      "Epoch 10 finished\n",
      "Epoch 11 finished\n",
      "Epoch 12 finished\n",
      "Epoch 13 finished\n",
      "Epoch 14 finished\n",
      "Epoch 15 finished\n",
      "Epoch 16 finished\n",
      "Epoch 17 finished\n",
      "Epoch 18 finished\n",
      "Epoch 19 finished\n",
      "Epoch 20 finished\n",
      "Epoch 21 finished\n",
      "Epoch 22 finished\n",
      "Epoch 23 finished\n",
      "Epoch 24 finished\n",
      "Epoch 25 finished\n",
      "Epoch 26 finished\n",
      "Epoch 27 finished\n",
      "Epoch 28 finished\n",
      "Epoch 29 finished\n",
      "Epoch 30 finished\n",
      "Epoch 31 finished\n",
      "Epoch 32 finished\n",
      "Epoch 33 finished\n",
      "Epoch 34 finished\n",
      "Epoch 35 finished\n",
      "Epoch 36 finished\n",
      "Epoch 37 finished\n",
      "Epoch 38 finished\n",
      "Epoch 39 finished\n",
      "Epoch 40 finished\n",
      "Epoch 41 finished\n",
      "Epoch 42 finished\n",
      "Epoch 43 finished\n",
      "Epoch 44 finished\n",
      "Epoch 45 finished\n",
      "Epoch 46 finished\n",
      "Epoch 47 finished\n",
      "Epoch 48 finished\n",
      "Epoch 49 finished\n",
      "Epoch 50 finished\n",
      "Epoch 51 finished\n",
      "Epoch 52 finished\n",
      "Epoch 53 finished\n",
      "Epoch 54 finished\n",
      "Epoch 55 finished\n",
      "Epoch 56 finished\n",
      "Epoch 57 finished\n",
      "Epoch 58 finished\n",
      "Epoch 59 finished\n"
     ]
    }
   ],
   "source": [
    "NET6 = Network(100, loss=CrossEntropyLoss, init='normalized')\n",
    "results6 = NET6.SGD(expanded_train_data,\n",
    "                    mini_batch_size=10, \n",
    "                    eta=0.1, \n",
    "                    lmbda=10**(-4),\n",
    "                    test_data=test_data)"
   ]
  },
  {
   "cell_type": "code",
   "execution_count": 19,
   "id": "auburn-mixer",
   "metadata": {},
   "outputs": [
    {
     "name": "stdout",
     "output_type": "stream",
     "text": [
      "0.9852\n"
     ]
    },
    {
     "data": {
      "image/png": "[encoded data removed]",
      "text/plain": [
       "<Figure size 864x432 with 2 Axes>"
      ]
     },
     "metadata": {
      "needs_background": "light"
     },
     "output_type": "display_data"
    }
   ],
   "source": [
    "plot_results(results6)"
   ]
  },
  {
   "cell_type": "markdown",
   "id": "threaded-southeast",
   "metadata": {},
   "source": []
  },
  {
   "cell_type": "code",
   "execution_count": 61,
   "id": "medieval-mistress",
   "metadata": {},
   "outputs": [
    {
     "name": "stdout",
     "output_type": "stream",
     "text": [
      "Epoch 1 finished\n",
      "Epoch 2 finished\n",
      "Epoch 3 finished\n",
      "Epoch 4 finished\n",
      "Epoch 5 finished\n",
      "Epoch 6 finished\n",
      "Epoch 7 finished\n",
      "Epoch 8 finished\n",
      "Epoch 9 finished\n",
      "Epoch 10 finished\n",
      "Epoch 11 finished\n"
     ]
    }
   ],
   "source": [
    "NET30 = Network(30, loss=CrossEntropyLoss, init='normalized')\n",
    "results6 = NET30.EarlyStopping(expanded_train_data,\n",
    "                    tol=1e-1,\n",
    "                    mini_batch_size=10, \n",
    "                    eta=0.1, \n",
    "                    lmbda=10**(-4),\n",
    "                    test_data=test_data)"
   ]
  },
  {
   "cell_type": "code",
   "execution_count": 62,
   "id": "suitable-personal",
   "metadata": {},
   "outputs": [
    {
     "name": "stdout",
     "output_type": "stream",
     "text": [
      "0.9719\n"
     ]
    },
    {
     "data": {
      "image/png": "[encoded data removed]",
      "text/plain": [
       "<Figure size 864x432 with 2 Axes>"
      ]
     },
     "metadata": {
      "needs_background": "light"
     },
     "output_type": "display_data"
    }
   ],
   "source": [
    "plot_results(results6)"
   ]
  },
  {
   "cell_type": "code",
   "execution_count": 63,
   "id": "developmental-compression",
   "metadata": {},
   "outputs": [
    {
     "name": "stdout",
     "output_type": "stream",
     "text": [
      "Epoch 1 finished\n",
      "Epoch 2 finished\n",
      "Epoch 3 finished\n",
      "Epoch 4 finished\n",
      "Epoch 5 finished\n",
      "Epoch 6 finished\n",
      "Epoch 7 finished\n",
      "Epoch 8 finished\n",
      "Epoch 9 finished\n",
      "Epoch 10 finished\n",
      "Epoch 11 finished\n",
      "Epoch 12 finished\n",
      "Epoch 1 finished\n",
      "Epoch 2 finished\n",
      "Epoch 3 finished\n",
      "Epoch 4 finished\n",
      "Epoch 5 finished\n",
      "Epoch 6 finished\n",
      "Epoch 7 finished\n",
      "Epoch 8 finished\n",
      "Epoch 9 finished\n",
      "Epoch 10 finished\n",
      "Epoch 11 finished\n",
      "Epoch 1 finished\n",
      "Epoch 2 finished\n",
      "Epoch 3 finished\n",
      "Epoch 4 finished\n",
      "Epoch 5 finished\n",
      "Epoch 6 finished\n",
      "Epoch 7 finished\n",
      "Epoch 8 finished\n",
      "Epoch 9 finished\n",
      "Epoch 10 finished\n",
      "Epoch 11 finished\n",
      "Epoch 1 finished\n",
      "Epoch 2 finished\n",
      "Epoch 3 finished\n",
      "Epoch 4 finished\n",
      "Epoch 5 finished\n",
      "Epoch 6 finished\n",
      "Epoch 7 finished\n",
      "Epoch 8 finished\n",
      "Epoch 9 finished\n",
      "Epoch 10 finished\n",
      "Epoch 11 finished\n"
     ]
    }
   ],
   "source": [
    "TRAIN, VALIDATION, TEST = load_data()\n",
    "\n",
    "train_data = zip_data(TRAIN)\n",
    "validation_data = zip_data(VALIDATION)\n",
    "test_data = zip_data(TEST)\n",
    "\n",
    "expanded_train_data = []\n",
    "for x, ylabel in train_data:\n",
    "    expanded_train_data.append((x, ylabel))\n",
    "    for r_shift, c_shift in [(+1, 0), (-1, 0), (0, +1), (0, -1)]:\n",
    "        expanded_train_data.append((\n",
    "            shifted_image(x, r_shift, c_shift),\n",
    "            ylabel\n",
    "        ))\n",
    "\n",
    "NET3 = Network(30, loss=CrossEntropyLoss, init='normalized')\n",
    "results3 = NET3.VarLearningRate(expanded_train_data,\n",
    "                    tol=5e-3,\n",
    "                    mini_batch_size=10, \n",
    "                    eta=0.7, \n",
    "                    lmbda=10**(-4),\n",
    "                    test_data=test_data)"
   ]
  },
  {
   "cell_type": "code",
   "execution_count": 64,
   "id": "specialized-culture",
   "metadata": {},
   "outputs": [
    {
     "name": "stdout",
     "output_type": "stream",
     "text": [
      "0.9773\n"
     ]
    },
    {
     "data": {
      "image/png": "[encoded data removed]",
      "text/plain": [
       "<Figure size 864x432 with 2 Axes>"
      ]
     },
     "metadata": {
      "needs_background": "light"
     },
     "output_type": "display_data"
    }
   ],
   "source": [
    "plot_results(results3)"
   ]
  },
  {
   "cell_type": "code",
   "execution_count": 65,
   "id": "vocal-effort",
   "metadata": {},
   "outputs": [
    {
     "data": {
      "text/plain": [
       "[((0.45376205976743017, 0.932484), (0.34998094280046843, 0.9497)),\n",
       " ((0.41322005497690184, 0.936916), (0.3172709605155136, 0.9551)),\n",
       " ((0.38654672337122076, 0.943672), (0.30427070817074237, 0.9564)),\n",
       " ((0.4371612815339192, 0.93336), (0.35459841931382113, 0.9488)),\n",
       " ((0.40304128734096123, 0.941468), (0.3222232661252834, 0.9554)),\n",
       " ((0.3865178412565181, 0.943492), (0.29800873137493183, 0.9591)),\n",
       " ((0.3975100874860359, 0.943396), (0.31889719022591073, 0.954)),\n",
       " ((0.3860554553825502, 0.944628), (0.32301565619677897, 0.9532)),\n",
       " ((0.40974639247097566, 0.942512), (0.32289201444548155, 0.9549)),\n",
       " ((0.37819758135888, 0.946404), (0.29056555007749324, 0.96)),\n",
       " ((0.4343580612794968, 0.935992), (0.34618038752408403, 0.9506)),\n",
       " ((0.3625640665861685, 0.949764), (0.28846436617316734, 0.9618)),\n",
       " ((0.26589907043807454, 0.964112), (0.21290257901249893, 0.9726)),\n",
       " ((0.2584591418961599, 0.966412), (0.20443637485603267, 0.9741)),\n",
       " ((0.26263479998479755, 0.965944), (0.20534007463665016, 0.9755)),\n",
       " ((0.2575016773980646, 0.96758), (0.20566367151395212, 0.9741)),\n",
       " ((0.2571978959901601, 0.967304), (0.20399966900559235, 0.9735)),\n",
       " ((0.2553198172377191, 0.967224), (0.20329984547603477, 0.9742)),\n",
       " ((0.2583723350993049, 0.966888), (0.20738923827946787, 0.9746)),\n",
       " ((0.2523780495578847, 0.967848), (0.20344804460937052, 0.9742)),\n",
       " ((0.2547741258289493, 0.967768), (0.20394776956684485, 0.9752)),\n",
       " ((0.2523554374140465, 0.967516), (0.2010548113720787, 0.9744)),\n",
       " ((0.2557665771921576, 0.96698), (0.20422146070803596, 0.9733)),\n",
       " ((0.24237350645516414, 0.969364), (0.19196760845206393, 0.9765)),\n",
       " ((0.2416989421690877, 0.96968), (0.19258674407945173, 0.9768)),\n",
       " ((0.24279214142585376, 0.969444), (0.1942598230442122, 0.9765)),\n",
       " ((0.24121038337444436, 0.969944), (0.1925264923576467, 0.9769)),\n",
       " ((0.24169947628614638, 0.969704), (0.19353329120875196, 0.9757)),\n",
       " ((0.24094759338267788, 0.97004), (0.19249551079758756, 0.9771)),\n",
       " ((0.24111623481194713, 0.9699), (0.19226876227733472, 0.9773)),\n",
       " ((0.24121462351807194, 0.96998), (0.19282090189389348, 0.9761)),\n",
       " ((0.24094724400382603, 0.97), (0.19273790696528886, 0.9764)),\n",
       " ((0.24097181005882443, 0.969928), (0.19375198536936503, 0.9766)),\n",
       " ((0.24141291264887657, 0.96964), (0.1937961060666332, 0.9764)),\n",
       " ((0.24039321654383441, 0.970156), (0.1925340737490818, 0.9764)),\n",
       " ((0.24027926686850928, 0.970052), (0.19231163274508117, 0.9767)),\n",
       " ((0.24026323337820638, 0.970068), (0.1922167777435883, 0.9767)),\n",
       " ((0.240250508712945, 0.970124), (0.19253779993121367, 0.9766)),\n",
       " ((0.24021024586057396, 0.970164), (0.1922716068403756, 0.9766)),\n",
       " ((0.24023616598544031, 0.970148), (0.19219267304819782, 0.9766)),\n",
       " ((0.24020431786416127, 0.970176), (0.19240268944129124, 0.9766)),\n",
       " ((0.24019569883936637, 0.970176), (0.19220053824989944, 0.9767)),\n",
       " ((0.24017951559448109, 0.97016), (0.19227756192869588, 0.9768)),\n",
       " ((0.2401802940597036, 0.970216), (0.1923707878703974, 0.9767)),\n",
       " ((0.240200216679494, 0.970164), (0.19221147063171606, 0.9767))]"
      ]
     },
     "execution_count": 65,
     "metadata": {},
     "output_type": "execute_result"
    }
   ],
   "source": [
    "results3"
   ]
  },
  {
   "cell_type": "markdown",
   "id": "controversial-missile",
   "metadata": {},
   "source": [
    "when  we do for the early stop the accuracy it does not increase that much , in the last graph after 10 epochs it increase very vast because we change the learning rate."
   ]
  },
  {
   "cell_type": "markdown",
   "id": "returning-occasions",
   "metadata": {},
   "source": [
    "## Problem (6)"
   ]
  },
  {
   "cell_type": "code",
   "execution_count": 74,
   "id": "naval-celebration",
   "metadata": {},
   "outputs": [],
   "source": [
    "import numpy as np\n",
    "import matplotlib.pyplot as plt\n",
    "import tensorflow as tf\n",
    "import warnings\n",
    "warnings.filterwarnings('ignore')"
   ]
  },
  {
   "cell_type": "code",
   "execution_count": 75,
   "id": "retained-afghanistan",
   "metadata": {},
   "outputs": [],
   "source": [
    "(train_data, train_labels), (test_data, test_labels) = tf.keras.datasets.mnist.load_data()"
   ]
  },
  {
   "cell_type": "code",
   "execution_count": 76,
   "id": "through-preservation",
   "metadata": {},
   "outputs": [],
   "source": [
    "train_data = train_data / 255.0\n",
    "test_data = test_data / 255.0"
   ]
  },
  {
   "cell_type": "code",
   "execution_count": 77,
   "id": "russian-morris",
   "metadata": {},
   "outputs": [
    {
     "data": {
      "text/plain": [
       "((60000, 28, 28), (10000, 28, 28))"
      ]
     },
     "execution_count": 77,
     "metadata": {},
     "output_type": "execute_result"
    }
   ],
   "source": [
    "train_data.shape, test_data.shape"
   ]
  },
  {
   "cell_type": "code",
   "execution_count": 78,
   "id": "valuable-comment",
   "metadata": {},
   "outputs": [],
   "source": [
    "class MNISTConvolutionalNetwork(object):\n",
    "    def __init__(self, n):\n",
    "\n",
    "        # Initialize the weights randomly # 2880 is the flattened output size of the convolutional layer\n",
    "        self.W = np.random.randn(n, 2880) # n is the number of neurons in the hidden layer, \n",
    "        self.b = np.random.randn(n) \n",
    "        self.V = np.random.randn(10, n)\n",
    "        self.bprime = np.random.randn(10)\n",
    "        \n",
    "    def ConvLayer(self, input_tensor):\n",
    "        num_filters = 20\n",
    "        filter_height, filter_width = 5, 5\n",
    "\n",
    "        weight_tensor = np.random.randn(num_filters, filter_height, filter_width)\n",
    "\n",
    "        bias_tensor = np.random.randn(num_filters)\n",
    "\n",
    "        stride = 1\n",
    "        padding = 0\n",
    "      \n",
    "        pool_size = 2\n",
    "        pool_stride = 2\n",
    "\n",
    "        input_height, input_width = input_tensor.shape\n",
    "        conv_output_height = int((input_height - filter_height + 2 * padding) / stride) + 1\n",
    "        conv_output_width = int((input_width - filter_width + 2 * padding) / stride) + 1\n",
    "\n",
    "        conv_output_tensor = np.zeros((num_filters, conv_output_height, conv_output_width))\n",
    "\n",
    "        for k in range(num_filters):\n",
    "            for i in range(conv_output_height):\n",
    "                for j in range(conv_output_width):\n",
    "                    conv_output_tensor[k][i][j] = np.sum(\n",
    "                        input_tensor[i:i+filter_height, j:j+filter_width] * weight_tensor[k]) \\\n",
    "                    + bias_tensor[k]       \n",
    "        \n",
    "        conv_output_tensor = np.maximum(conv_output_tensor, 0)\n",
    "        \n",
    "        # Compute output shape for max pooling\n",
    "        pool_output_height = int((conv_output_height - pool_size) / pool_stride) + 1\n",
    "        pool_output_width = int((conv_output_width - pool_size) / pool_stride) + 1\n",
    "\n",
    "        pool_output_tensor = np.zeros((num_filters, pool_output_height, pool_output_width))\n",
    "\n",
    "        # Perform max pooling\n",
    "        for k in range(num_filters):\n",
    "            for i in range(pool_output_height):\n",
    "                for j in range(pool_output_width):\n",
    "                    pool_output_tensor[k][i][j] = np.max(\n",
    "                        conv_output_tensor[k][i*pool_stride:i*pool_stride+pool_size, \\\n",
    "                                              j*pool_stride:j*pool_stride+pool_size])\n",
    "        return pool_output_tensor\n",
    "        \n",
    "    def feedforward(self, x):\n",
    "        conv_output = self.ConvLayer(x).flatten()\n",
    "        a = np.maximum(np.dot(self.W, conv_output) + self.b, 0) \n",
    "        z = np.dot(self.V, a) + self.bprime\n",
    "        exp_scores = np.exp(z) \n",
    "        return exp_scores / np.sum(exp_scores)\n",
    "\n",
    "    def evaluate(self, data):\n",
    "        \"\"\" Return (cost, accuracy) on the data\"\"\"\n",
    "        correct_samples = 0\n",
    "        total_cost = 0\n",
    "        n_samples = len(data)\n",
    "\n",
    "        for x, ylabel in data:\n",
    "            y = self.feedforward(x)\n",
    "            prediction = np.argmax(y)\n",
    "            if prediction == ylabel:\n",
    "                correct_samples += 1\n",
    "\n",
    "            y[ylabel] -= 1.0\n",
    "            total_cost += np.dot(y, y)\n",
    "\n",
    "        return total_cost / n_samples, correct_samples / n_samples"
   ]
  },
  {
   "cell_type": "code",
   "execution_count": 79,
   "id": "proof-diving",
   "metadata": {},
   "outputs": [],
   "source": [
    "NET =  MNISTConvolutionalNetwork(30)"
   ]
  },
  {
   "cell_type": "code",
   "execution_count": 80,
   "id": "hybrid-alabama",
   "metadata": {},
   "outputs": [
    {
     "data": {
      "text/plain": [
       "array([4.97427943e-034, 0.00000000e+000, 2.43878836e-289, 1.00000000e+000,\n",
       "       0.00000000e+000, 0.00000000e+000, 3.58153127e-319, 8.20880855e-278,\n",
       "       2.49688244e-163, 2.00344468e-148])"
      ]
     },
     "execution_count": 80,
     "metadata": {},
     "output_type": "execute_result"
    }
   ],
   "source": [
    "NET.feedforward(train_data[0])"
   ]
  },
  {
   "cell_type": "code",
   "execution_count": 81,
   "id": "reliable-anaheim",
   "metadata": {},
   "outputs": [],
   "source": [
    "def zip_data(D0, D1):\n",
    "    return list(zip(D0, D1))"
   ]
  },
  {
   "cell_type": "code",
   "execution_count": 88,
   "id": "prime-crest",
   "metadata": {},
   "outputs": [],
   "source": [
    "train_set = zip_data(train_data[:100], train_labels[:100])"
   ]
  },
  {
   "cell_type": "code",
   "execution_count": 89,
   "id": "color-median",
   "metadata": {},
   "outputs": [
    {
     "data": {
      "text/plain": [
       "(nan, 0.12)"
      ]
     },
     "execution_count": 89,
     "metadata": {},
     "output_type": "execute_result"
    }
   ],
   "source": [
    "NET.evaluate(train_set)"
   ]
  },
  {
   "cell_type": "code",
   "execution_count": null,
   "id": "upper-horizontal",
   "metadata": {},
   "outputs": [],
   "source": []
  }
 ],
 "metadata": {
  "kernelspec": {
   "display_name": "Python 3",
   "language": "python",
   "name": "python3"
  },
  "language_info": {
   "codemirror_mode": {
    "name": "ipython",
    "version": 3
   },
   "file_extension": ".py",
   "mimetype": "text/x-python",
   "name": "python",
   "nbconvert_exporter": "python",
   "pygments_lexer": "ipython3",
   "version": "3.9.2"
  }
 },
 "nbformat": 4,
 "nbformat_minor": 5
}
